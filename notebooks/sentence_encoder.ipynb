{
 "nbformat": 4,
 "nbformat_minor": 0,
 "metadata": {
  "colab": {
   "name": "sentence_encoder.ipynb",
   "provenance": []
  },
  "kernelspec": {
   "name": "python3",
   "display_name": "Python 3"
  },
  "language_info": {
   "name": "python"
  }
 },
 "cells": [
  {
   "cell_type": "code",
   "execution_count": 2,
   "metadata": {
    "colab": {
     "base_uri": "https://localhost:8080/"
    },
    "id": "aCKTanKUtm1C",
    "outputId": "548aea15-88d8-41bb-91ac-c3d9ec447bb3"
   },
   "outputs": [
    {
     "output_type": "stream",
     "name": "stdout",
     "text": [
      "[nltk_data] Downloading package stopwords to /root/nltk_data...\n",
      "[nltk_data]   Package stopwords is already up-to-date!\n"
     ]
    },
    {
     "output_type": "execute_result",
     "data": {
      "text/plain": [
       "True"
      ]
     },
     "metadata": {},
     "execution_count": 2
    }
   ],
   "source": [
    "import tensorflow_hub as hub\n",
    "import numpy as np\n",
    "import pandas as pd\n",
    "import nltk\n",
    "\n",
    "nltk.download(\"stopwords\")"
   ]
  },
  {
   "cell_type": "code",
   "source": [
    "module_url = \"https://tfhub.dev/google/universal-sentence-encoder/4\"\n",
    "model = hub.load(module_url)\n",
    "print(\"module %s loaded\" % module_url)"
   ],
   "metadata": {
    "colab": {
     "base_uri": "https://localhost:8080/"
    },
    "id": "iQOjwAQHvCIq",
    "outputId": "4739c9cc-3055-427b-a865-5adfb3d5d1c4"
   },
   "execution_count": 3,
   "outputs": [
    {
     "output_type": "stream",
     "name": "stdout",
     "text": [
      "module https://tfhub.dev/google/universal-sentence-encoder/4 loaded\n"
     ]
    }
   ]
  },
  {
   "cell_type": "code",
   "source": [
    "stop_words = [\"?\", \"n't\", \"'s\"]\n",
    "stop_words += nltk.corpus.stopwords.words(\"english\")"
   ],
   "metadata": {
    "id": "CkcMya7t8CA3"
   },
   "execution_count": 4,
   "outputs": []
  },
  {
   "cell_type": "code",
   "source": [
    "# mounting your google drive to colab\n",
    "from google.colab import drive\n",
    "\n",
    "drive.mount(\"/gdrive\")"
   ],
   "metadata": {
    "colab": {
     "base_uri": "https://localhost:8080/"
    },
    "id": "xloBLoD9FfKw",
    "outputId": "74b19fec-ca21-4fca-e207-411dd8b405e1"
   },
   "execution_count": 5,
   "outputs": [
    {
     "output_type": "stream",
     "name": "stdout",
     "text": [
      "Drive already mounted at /gdrive; to attempt to forcibly remount, call drive.mount(\"/gdrive\", force_remount=True).\n"
     ]
    }
   ]
  },
  {
   "cell_type": "code",
   "source": [
    "# load dataset\n",
    "dataset = r\"/gdrive/MyDrive/minor_project_files/filtered.txt\"\n",
    "\n",
    "# df= pd.read_csv(dataset, keep_default_na=False, na_values=['_'])\n",
    "questions = []\n",
    "with open(dataset, \"r\") as fp:\n",
    "    questions = [x.strip().lower() for x in fp.readlines()]"
   ],
   "metadata": {
    "id": "42wJ0pffSiRN"
   },
   "execution_count": 70,
   "outputs": []
  },
  {
   "cell_type": "code",
   "source": [
    "print(questions[1])"
   ],
   "metadata": {
    "colab": {
     "base_uri": "https://localhost:8080/"
    },
    "id": "29Tfon-A83fi",
    "outputId": "abaf692e-ae6a-49a4-eaa5-60fc37d0e7b9"
   },
   "execution_count": 72,
   "outputs": [
    {
     "output_type": "stream",
     "name": "stdout",
     "text": [
      "what's it like to work at care.com for your first job?\n"
     ]
    }
   ]
  },
  {
   "cell_type": "code",
   "source": [
    "len(questions)"
   ],
   "metadata": {
    "colab": {
     "base_uri": "https://localhost:8080/"
    },
    "id": "cE6fvUJp2S48",
    "outputId": "2dba039e-9c60-40ee-e2f5-8c7fb4d07796"
   },
   "execution_count": 69,
   "outputs": [
    {
     "output_type": "execute_result",
     "data": {
      "text/plain": [
       "296559"
      ]
     },
     "metadata": {},
     "execution_count": 69
    }
   ]
  },
  {
   "cell_type": "code",
   "source": [
    "# embeddings=model(questions[:200000])"
   ],
   "metadata": {
    "id": "k1pG32dyx-7g"
   },
   "execution_count": 7,
   "outputs": []
  },
  {
   "cell_type": "code",
   "source": [
    "# sem = np.asarray(sem)\n",
    "# filename1=\"sent_enc_embeddings1\"\n",
    "# np.save(f'/gdrive/MyDrive/minor_project_files/{filename1}.npy', embeddings)"
   ],
   "metadata": {
    "id": "PeDImGhu0nzE"
   },
   "execution_count": 25,
   "outputs": []
  },
  {
   "cell_type": "code",
   "source": [
    "# embeddings2=model(questions[200000:])"
   ],
   "metadata": {
    "id": "F9JYsQFO1HGS"
   },
   "execution_count": 11,
   "outputs": []
  },
  {
   "cell_type": "code",
   "source": [
    "# embeddings2.shape"
   ],
   "metadata": {
    "colab": {
     "base_uri": "https://localhost:8080/"
    },
    "id": "-rwDPFIx2Yrw",
    "outputId": "5a30771d-5956-4edd-99a3-f23aa160828c"
   },
   "execution_count": 24,
   "outputs": [
    {
     "output_type": "execute_result",
     "data": {
      "text/plain": [
       "TensorShape([96559, 512])"
      ]
     },
     "metadata": {},
     "execution_count": 24
    }
   ]
  },
  {
   "cell_type": "code",
   "source": [
    "# # sem = np.asarray(sem)\n",
    "# filename2=\"sent_enc_embeddings2\"\n",
    "# np.save(f'/gdrive/MyDrive/minor_project_files/{filename2}.npy', embeddings2)"
   ],
   "metadata": {
    "id": "At6fHoZk1HGS"
   },
   "execution_count": 26,
   "outputs": []
  },
  {
   "cell_type": "code",
   "source": [
    "# loaded_embeddings1 = np.load(f'/gdrive/MyDrive/minor_project_files/{filename1}.npy', allow_pickle=True)\n",
    "# # print(sem[:1])\n",
    "# print(loaded_embeddings1.shape)"
   ],
   "metadata": {
    "colab": {
     "base_uri": "https://localhost:8080/"
    },
    "id": "TvKOOAQF1kqR",
    "outputId": "08fb23a7-d3f6-4bf1-ef44-8ef2694497bd"
   },
   "execution_count": 27,
   "outputs": [
    {
     "output_type": "stream",
     "name": "stdout",
     "text": [
      "(200000, 512)\n"
     ]
    }
   ]
  },
  {
   "cell_type": "code",
   "source": [
    "# loaded_embeddings2 = np.load(f'/gdrive/MyDrive/minor_project_files/{filename2}.npy', allow_pickle=True)\n",
    "# # print(sem[:1])\n",
    "# print(loaded_embeddings2.shape)"
   ],
   "metadata": {
    "colab": {
     "base_uri": "https://localhost:8080/"
    },
    "id": "ZcuSz6gb1-xL",
    "outputId": "bde95421-2a4d-47e2-a8fe-27b5e2b28f4a"
   },
   "execution_count": 28,
   "outputs": [
    {
     "output_type": "stream",
     "name": "stdout",
     "text": [
      "(96559, 512)\n"
     ]
    }
   ]
  },
  {
   "cell_type": "code",
   "source": [
    "# full_embeddings_filename=\"sentence_encoder_embeddings\"\n",
    "# full_embeddings=np.concatenate((loaded_embeddings1,loaded_embeddings2),axis=0)\n",
    "# np.save(f'/gdrive/MyDrive/minor_project_files/{full_embeddings_filename}.npy', full_embeddings)"
   ],
   "metadata": {
    "id": "eCr48kt922Ov"
   },
   "execution_count": 31,
   "outputs": []
  },
  {
   "cell_type": "code",
   "source": [
    "sent_enc_embeddings = np.load(\n",
    "    f\"/gdrive/MyDrive/minor_project_files/{full_embeddings_filename}.npy\",\n",
    "    allow_pickle=True,\n",
    ")"
   ],
   "metadata": {
    "id": "xVqsEcDM4KOX"
   },
   "execution_count": 35,
   "outputs": []
  },
  {
   "cell_type": "code",
   "source": [
    "!pip install annoy"
   ],
   "metadata": {
    "colab": {
     "base_uri": "https://localhost:8080/"
    },
    "id": "d7c5VbFcfcZM",
    "outputId": "3b56e93c-554e-423b-be57-54ff4fa9088f"
   },
   "execution_count": 32,
   "outputs": [
    {
     "output_type": "stream",
     "name": "stdout",
     "text": [
      "Collecting annoy\n",
      "  Downloading annoy-1.17.0.tar.gz (646 kB)\n",
      "\u001b[?25l\r\u001b[K     |▌                               | 10 kB 20.8 MB/s eta 0:00:01\r\u001b[K     |█                               | 20 kB 13.5 MB/s eta 0:00:01\r\u001b[K     |█▌                              | 30 kB 9.5 MB/s eta 0:00:01\r\u001b[K     |██                              | 40 kB 8.7 MB/s eta 0:00:01\r\u001b[K     |██▌                             | 51 kB 5.0 MB/s eta 0:00:01\r\u001b[K     |███                             | 61 kB 5.2 MB/s eta 0:00:01\r\u001b[K     |███▌                            | 71 kB 5.4 MB/s eta 0:00:01\r\u001b[K     |████                            | 81 kB 6.0 MB/s eta 0:00:01\r\u001b[K     |████▋                           | 92 kB 4.6 MB/s eta 0:00:01\r\u001b[K     |█████                           | 102 kB 5.0 MB/s eta 0:00:01\r\u001b[K     |█████▋                          | 112 kB 5.0 MB/s eta 0:00:01\r\u001b[K     |██████                          | 122 kB 5.0 MB/s eta 0:00:01\r\u001b[K     |██████▋                         | 133 kB 5.0 MB/s eta 0:00:01\r\u001b[K     |███████                         | 143 kB 5.0 MB/s eta 0:00:01\r\u001b[K     |███████▋                        | 153 kB 5.0 MB/s eta 0:00:01\r\u001b[K     |████████▏                       | 163 kB 5.0 MB/s eta 0:00:01\r\u001b[K     |████████▋                       | 174 kB 5.0 MB/s eta 0:00:01\r\u001b[K     |█████████▏                      | 184 kB 5.0 MB/s eta 0:00:01\r\u001b[K     |█████████▋                      | 194 kB 5.0 MB/s eta 0:00:01\r\u001b[K     |██████████▏                     | 204 kB 5.0 MB/s eta 0:00:01\r\u001b[K     |██████████▋                     | 215 kB 5.0 MB/s eta 0:00:01\r\u001b[K     |███████████▏                    | 225 kB 5.0 MB/s eta 0:00:01\r\u001b[K     |███████████▋                    | 235 kB 5.0 MB/s eta 0:00:01\r\u001b[K     |████████████▏                   | 245 kB 5.0 MB/s eta 0:00:01\r\u001b[K     |████████████▊                   | 256 kB 5.0 MB/s eta 0:00:01\r\u001b[K     |█████████████▏                  | 266 kB 5.0 MB/s eta 0:00:01\r\u001b[K     |█████████████▊                  | 276 kB 5.0 MB/s eta 0:00:01\r\u001b[K     |██████████████▏                 | 286 kB 5.0 MB/s eta 0:00:01\r\u001b[K     |██████████████▊                 | 296 kB 5.0 MB/s eta 0:00:01\r\u001b[K     |███████████████▏                | 307 kB 5.0 MB/s eta 0:00:01\r\u001b[K     |███████████████▊                | 317 kB 5.0 MB/s eta 0:00:01\r\u001b[K     |████████████████▎               | 327 kB 5.0 MB/s eta 0:00:01\r\u001b[K     |████████████████▊               | 337 kB 5.0 MB/s eta 0:00:01\r\u001b[K     |█████████████████▎              | 348 kB 5.0 MB/s eta 0:00:01\r\u001b[K     |█████████████████▊              | 358 kB 5.0 MB/s eta 0:00:01\r\u001b[K     |██████████████████▎             | 368 kB 5.0 MB/s eta 0:00:01\r\u001b[K     |██████████████████▊             | 378 kB 5.0 MB/s eta 0:00:01\r\u001b[K     |███████████████████▎            | 389 kB 5.0 MB/s eta 0:00:01\r\u001b[K     |███████████████████▊            | 399 kB 5.0 MB/s eta 0:00:01\r\u001b[K     |████████████████████▎           | 409 kB 5.0 MB/s eta 0:00:01\r\u001b[K     |████████████████████▉           | 419 kB 5.0 MB/s eta 0:00:01\r\u001b[K     |█████████████████████▎          | 430 kB 5.0 MB/s eta 0:00:01\r\u001b[K     |█████████████████████▉          | 440 kB 5.0 MB/s eta 0:00:01\r\u001b[K     |██████████████████████▎         | 450 kB 5.0 MB/s eta 0:00:01\r\u001b[K     |██████████████████████▉         | 460 kB 5.0 MB/s eta 0:00:01\r\u001b[K     |███████████████████████▎        | 471 kB 5.0 MB/s eta 0:00:01\r\u001b[K     |███████████████████████▉        | 481 kB 5.0 MB/s eta 0:00:01\r\u001b[K     |████████████████████████▍       | 491 kB 5.0 MB/s eta 0:00:01\r\u001b[K     |████████████████████████▉       | 501 kB 5.0 MB/s eta 0:00:01\r\u001b[K     |█████████████████████████▍      | 512 kB 5.0 MB/s eta 0:00:01\r\u001b[K     |█████████████████████████▉      | 522 kB 5.0 MB/s eta 0:00:01\r\u001b[K     |██████████████████████████▍     | 532 kB 5.0 MB/s eta 0:00:01\r\u001b[K     |██████████████████████████▉     | 542 kB 5.0 MB/s eta 0:00:01\r\u001b[K     |███████████████████████████▍    | 552 kB 5.0 MB/s eta 0:00:01\r\u001b[K     |███████████████████████████▉    | 563 kB 5.0 MB/s eta 0:00:01\r\u001b[K     |████████████████████████████▍   | 573 kB 5.0 MB/s eta 0:00:01\r\u001b[K     |█████████████████████████████   | 583 kB 5.0 MB/s eta 0:00:01\r\u001b[K     |█████████████████████████████▍  | 593 kB 5.0 MB/s eta 0:00:01\r\u001b[K     |██████████████████████████████  | 604 kB 5.0 MB/s eta 0:00:01\r\u001b[K     |██████████████████████████████▍ | 614 kB 5.0 MB/s eta 0:00:01\r\u001b[K     |███████████████████████████████ | 624 kB 5.0 MB/s eta 0:00:01\r\u001b[K     |███████████████████████████████▍| 634 kB 5.0 MB/s eta 0:00:01\r\u001b[K     |████████████████████████████████| 645 kB 5.0 MB/s eta 0:00:01\r\u001b[K     |████████████████████████████████| 646 kB 5.0 MB/s \n",
      "\u001b[?25hBuilding wheels for collected packages: annoy\n",
      "  Building wheel for annoy (setup.py) ... \u001b[?25l\u001b[?25hdone\n",
      "  Created wheel for annoy: filename=annoy-1.17.0-cp37-cp37m-linux_x86_64.whl size=391671 sha256=94d3a0da057b5ee4e883d0f2ec70af103597f6500facdc3b1ceb9eca4ac6f026\n",
      "  Stored in directory: /root/.cache/pip/wheels/4f/e8/1e/7cc9ebbfa87a3b9f8ba79408d4d31831d67eea918b679a4c07\n",
      "Successfully built annoy\n",
      "Installing collected packages: annoy\n",
      "Successfully installed annoy-1.17.0\n"
     ]
    }
   ]
  },
  {
   "cell_type": "code",
   "source": [
    "import annoy\n",
    "import pickle\n",
    "\n",
    "\n",
    "class AnnoyIndex:\n",
    "    def __init__(self, dimension):\n",
    "        self.dimension = dimension\n",
    "        self.index = annoy.AnnoyIndex(self.dimension)\n",
    "\n",
    "    def build(self, vectors, labels, number_of_trees=5):\n",
    "        self.vectors = vectors\n",
    "        self.labels = labels\n",
    "\n",
    "        for i, vec in enumerate(self.vectors):\n",
    "            if not np.isnan(np.sum(vec)):\n",
    "                self.index.add_item(i, vec)\n",
    "        self.index.build(number_of_trees)\n",
    "\n",
    "    def query(self, vector, k=10):\n",
    "        indices = self.index.get_nns_by_vector(list(vector), k)\n",
    "        return [self.labels[i] for i in indices]\n",
    "\n",
    "    def save(self, path):\n",
    "        label_path = path.split(\".\")[0] + \".labels\"\n",
    "        print(label_path)\n",
    "        with open(label_path, \"wb\") as fp:\n",
    "            pickle.dump(self.labels, fp)\n",
    "        self.index.save(path)\n",
    "\n",
    "    def load(self, path):\n",
    "        label_path = path.split(\".\")[0] + \".labels\"\n",
    "        self.index = annoy.AnnoyIndex(self.dimension)\n",
    "        with open(label_path, \"rb\") as fp:\n",
    "            self.labels = pickle.load(fp)\n",
    "        self.index.load(path)"
   ],
   "metadata": {
    "id": "2WEjwnoBffNM"
   },
   "execution_count": 33,
   "outputs": []
  },
  {
   "cell_type": "code",
   "source": [
    "real_questions = []\n",
    "with open(dataset, \"r\") as fp:\n",
    "    real_questions = fp.readlines()"
   ],
   "metadata": {
    "id": "OfkGGxp3UGtP"
   },
   "execution_count": 34,
   "outputs": []
  },
  {
   "cell_type": "code",
   "source": [
    "# create annoy index from vectors\n",
    "index = AnnoyIndex(dimension=len(sent_enc_embeddings[0]))\n",
    "index.build(sent_enc_embeddings, real_questions)"
   ],
   "metadata": {
    "id": "hdujOv9ufneE",
    "colab": {
     "base_uri": "https://localhost:8080/"
    },
    "outputId": "24c831d3-83ef-4ff3-c4c2-aa2f22dd7c20"
   },
   "execution_count": 36,
   "outputs": [
    {
     "output_type": "stream",
     "name": "stderr",
     "text": [
      "/usr/local/lib/python3.7/dist-packages/ipykernel_launcher.py:6: FutureWarning: The default argument for metric will be removed in future version of Annoy. Please pass metric='angular' explicitly.\n",
      "  \n"
     ]
    }
   ]
  },
  {
   "cell_type": "code",
   "source": [
    "sent_enc_index = \"sent_enc_index\"\n",
    "# index.save(f'/gdrive/MyDrive/minor_project_files/{sent_enc_index}.ann')"
   ],
   "metadata": {
    "id": "vEM0Zby5OtJF",
    "colab": {
     "base_uri": "https://localhost:8080/"
    },
    "outputId": "3dc484e7-d190-49ee-e641-ee2405746d08"
   },
   "execution_count": 38,
   "outputs": [
    {
     "output_type": "stream",
     "name": "stdout",
     "text": [
      "/gdrive/MyDrive/minor_project_files/sent_enc_index.labels\n"
     ]
    }
   ]
  },
  {
   "cell_type": "code",
   "source": [
    "#  load existing annoy index from file\n",
    "loaded_index = AnnoyIndex(dimension=len(sent_enc_embeddings[0]))\n",
    "loaded_index.load(f\"/gdrive/MyDrive/minor_project_files/{sent_enc_index}.ann\")"
   ],
   "metadata": {
    "id": "xo2SUQlsOe5y",
    "colab": {
     "base_uri": "https://localhost:8080/"
    },
    "outputId": "c048f286-72c5-4b99-e806-866a34f8fecb"
   },
   "execution_count": 39,
   "outputs": [
    {
     "output_type": "stream",
     "name": "stderr",
     "text": [
      "/usr/local/lib/python3.7/dist-packages/ipykernel_launcher.py:6: FutureWarning: The default argument for metric will be removed in future version of Annoy. Please pass metric='angular' explicitly.\n",
      "  \n",
      "/usr/local/lib/python3.7/dist-packages/ipykernel_launcher.py:31: FutureWarning: The default argument for metric will be removed in future version of Annoy. Please pass metric='angular' explicitly.\n"
     ]
    }
   ]
  },
  {
   "cell_type": "code",
   "source": [
    "loaded_index.query(sent_enc_embeddings[1])\n",
    "# print(real_questions[1])\n",
    "# print(sem[1])"
   ],
   "metadata": {
    "id": "GE085Mn0ft30",
    "colab": {
     "base_uri": "https://localhost:8080/"
    },
    "outputId": "218c7bb6-7d2d-48e6-9699-4644cf9622af"
   },
   "execution_count": 66,
   "outputs": [
    {
     "output_type": "execute_result",
     "data": {
      "text/plain": [
       "[\"What's it like to work at Care.com for your first job?\\n\",\n",
       " \"What's it like to work at Ingredion for your first job?\\n\",\n",
       " \"What's it like to work at Balchem for your first job?\\n\",\n",
       " \"What's it like to work at HFF for your first job?\\n\",\n",
       " \"What's it like to work at EMCORE for your first job?\\n\",\n",
       " \"What's it like to work at Middleby for your first job?\\n\",\n",
       " \"What's it like to work at ParkOhio for your first job?\\n\",\n",
       " \"What's it like to work at Stamps.com for your first job?\\n\",\n",
       " \"What's it like to work at E.W. Scripps for your first job?\\n\",\n",
       " \"What's it like to work at Knoll for your first job?\\n\"]"
      ]
     },
     "metadata": {},
     "execution_count": 66
    }
   ]
  },
  {
   "cell_type": "markdown",
   "source": [
    ""
   ],
   "metadata": {
    "id": "jfk_MG9e6Cw1"
   }
  },
  {
   "cell_type": "code",
   "source": [
    "def embed(input):\n",
    "    return model(input)"
   ],
   "metadata": {
    "id": "Cffu1q4H5nPe"
   },
   "execution_count": 44,
   "outputs": []
  },
  {
   "cell_type": "code",
   "source": [
    "question = \"what's it like to work at care.com for your first job?\"\n",
    "emb = embed([question])\n",
    "loaded_index.query(embed([question])[0])"
   ],
   "metadata": {
    "colab": {
     "base_uri": "https://localhost:8080/"
    },
    "id": "8bYjsPzW5uCz",
    "outputId": "dd54e5c2-0f89-4543-a0ee-cca0833ac7a7"
   },
   "execution_count": 73,
   "outputs": [
    {
     "output_type": "execute_result",
     "data": {
      "text/plain": [
       "[\"What's it like to work at Care.com for your first job?\\n\",\n",
       " \"What's it like to work at Ingredion for your first job?\\n\",\n",
       " \"What's it like to work at Balchem for your first job?\\n\",\n",
       " \"What's it like to work at HFF for your first job?\\n\",\n",
       " \"What's it like to work at EMCORE for your first job?\\n\",\n",
       " \"What's it like to work at Middleby for your first job?\\n\",\n",
       " \"What's it like to work at ParkOhio for your first job?\\n\",\n",
       " \"What's it like to work at Stamps.com for your first job?\\n\",\n",
       " \"What's it like to work at E.W. Scripps for your first job?\\n\",\n",
       " \"What's it like to work at Knoll for your first job?\\n\"]"
      ]
     },
     "metadata": {},
     "execution_count": 73
    }
   ]
  },
  {
   "cell_type": "code",
   "source": [
    "def get_similar(input_question: str):\n",
    "    emb = embed([input_question])\n",
    "    return loaded_index.query(emb[0])"
   ],
   "metadata": {
    "id": "c53z2LkESBIh"
   },
   "execution_count": 80,
   "outputs": []
  },
  {
   "cell_type": "code",
   "source": [
    "get_similar(\"why is alan turing considered father of computer science?\")"
   ],
   "metadata": {
    "colab": {
     "base_uri": "https://localhost:8080/"
    },
    "id": "T_NSMI-D9VPP",
    "outputId": "777e25ed-801c-443a-8a8b-ad03d536fcf6"
   },
   "execution_count": 82,
   "outputs": [
    {
     "output_type": "execute_result",
     "data": {
      "text/plain": [
       "['What does a computer science engineer does?\\n',\n",
       " 'When did Alan Turing receive recognition for the Enigma?\\n',\n",
       " 'Does how much you know in computer science mean your a better programmer?\\n',\n",
       " 'If all computers suddenly failed, what would happen to people with computer science degrees?\\n',\n",
       " 'How do you justify computer programming as engineering?\\n',\n",
       " 'What does it take to be a programmer?\\n',\n",
       " 'What is the most frustrating thing about being a computer programmer?\\n',\n",
       " 'Why do most people think that the computer science engineers are better than the mechanical engineers?\\n',\n",
       " 'If a scientist, an engineer, a metallurgist, a physicist, and a programmer were sent back in time, how much time would it take to build a computer?\\n',\n",
       " 'Why are graduates in Mathematics hired for software engineering job?\\n']"
      ]
     },
     "metadata": {},
     "execution_count": 82
    }
   ]
  }
 ]
}
