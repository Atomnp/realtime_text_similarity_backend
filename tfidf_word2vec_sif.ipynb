{
  "nbformat": 4,
  "nbformat_minor": 0,
  "metadata": {
    "colab": {
      "name": "tfidf_word2vec_sif.ipynb",
      "provenance": [],
      "collapsed_sections": [],
      "include_colab_link": true
    },
    "kernelspec": {
      "name": "python3",
      "display_name": "Python 3"
    },
    "language_info": {
      "name": "python"
    }
  },
  "cells": [
    {
      "cell_type": "markdown",
      "metadata": {
        "id": "view-in-github",
        "colab_type": "text"
      },
      "source": [
        "<a href=\"https://colab.research.google.com/github/Atomnp/realtime_text_similarity_backend/blob/main/tfidf_word2vec_sif.ipynb\" target=\"_parent\"><img src=\"https://colab.research.google.com/assets/colab-badge.svg\" alt=\"Open In Colab\"/></a>"
      ]
    },
    {
      "cell_type": "markdown",
      "source": [
        "#Imports"
      ],
      "metadata": {
        "id": "CxExVdm3LZrf"
      }
    },
    {
      "cell_type": "code",
      "execution_count": 480,
      "metadata": {
        "id": "HeRbR-2NAvAS"
      },
      "outputs": [],
      "source": [
        "from sklearn.feature_extraction.text import TfidfVectorizer\n",
        "from sklearn.decomposition import PCA\n",
        "from scipy.sparse import coo_matrix, lil_matrix\n",
        "import pandas as pd\n",
        "import numpy as np\n",
        "import itertools\n",
        "from typing import List\n",
        "import warnings\n",
        "warnings.filterwarnings(\"ignore\")"
      ]
    },
    {
      "cell_type": "code",
      "source": [
        "from gensim.test.utils import common_texts\n",
        "from gensim.models import Word2Vec\n",
        "from nltk.tokenize import word_tokenize, sent_tokenize\n",
        "from nltk.corpus import stopwords\n",
        "import string\n",
        "import nltk\n",
        "nltk.download('punkt')\n",
        "nltk.download('stopwords')"
      ],
      "metadata": {
        "id": "wysvPmYtEjY0",
        "colab": {
          "base_uri": "https://localhost:8080/"
        },
        "outputId": "6252e80a-6b53-423b-f126-ec19f3d0bfe8"
      },
      "execution_count": 481,
      "outputs": [
        {
          "output_type": "stream",
          "name": "stdout",
          "text": [
            "[nltk_data] Downloading package punkt to /root/nltk_data...\n",
            "[nltk_data]   Package punkt is already up-to-date!\n",
            "[nltk_data] Downloading package stopwords to /root/nltk_data...\n",
            "[nltk_data]   Package stopwords is already up-to-date!\n"
          ]
        },
        {
          "output_type": "execute_result",
          "data": {
            "text/plain": [
              "True"
            ]
          },
          "metadata": {},
          "execution_count": 481
        }
      ]
    },
    {
      "cell_type": "code",
      "source": [
        "# mounting your google drive to colab\n",
        "from google.colab import drive\n",
        "drive.mount('/gdrive')"
      ],
      "metadata": {
        "colab": {
          "base_uri": "https://localhost:8080/"
        },
        "id": "xloBLoD9FfKw",
        "outputId": "fb4cb318-81f8-4699-83dd-b570803c1db5"
      },
      "execution_count": 482,
      "outputs": [
        {
          "output_type": "stream",
          "name": "stdout",
          "text": [
            "Drive already mounted at /gdrive; to attempt to forcibly remount, call drive.mount(\"/gdrive\", force_remount=True).\n"
          ]
        }
      ]
    },
    {
      "cell_type": "markdown",
      "source": [
        "#Loading the data"
      ],
      "metadata": {
        "id": "3KOwZpxvIimd"
      }
    },
    {
      "cell_type": "markdown",
      "source": [
        "**Make shortcut of [this](https://drive.google.com/drive/folders/1BGr0cWKiJwT_jNg9nRNAhWgy0mYPgw_K?usp=sharing) folder in your gdrive**"
      ],
      "metadata": {
        "id": "cJnXuBlZG23A"
      }
    },
    {
      "cell_type": "code",
      "source": [
        "# load dataset\n",
        "dataset = r'/gdrive/MyDrive/minor_project_files/filtered.txt'\n",
        "questions = pd.read_fwf(dataset, header=None, delimiter = \"\\n\", keep_default_na=False, na_values=['_'])"
      ],
      "metadata": {
        "id": "42wJ0pffSiRN"
      },
      "execution_count": 483,
      "outputs": []
    },
    {
      "cell_type": "code",
      "source": [
        "stoplist = nltk.corpus.stopwords.words('english') + list(string.punctuation) + list([\"``\", \"''\"])\n",
        "\n",
        "def preprocess(text):\n",
        "    # stemmer = nltk.porter.PorterStemmer()\n",
        "    return [word.lower() for word in word_tokenize(str(text)) if word.lower() not in stoplist and not word.isdigit()]"
      ],
      "metadata": {
        "id": "Q8IOXjAv3lBF"
      },
      "execution_count": 484,
      "outputs": []
    },
    {
      "cell_type": "code",
      "source": [
        "processed = questions[0].apply(preprocess).to_list()"
      ],
      "metadata": {
        "id": "sTHf4ut96D6G"
      },
      "execution_count": 485,
      "outputs": []
    },
    {
      "cell_type": "code",
      "source": [
        "processed[:10]"
      ],
      "metadata": {
        "colab": {
          "base_uri": "https://localhost:8080/"
        },
        "id": "3tm_SByTie6B",
        "outputId": "d117acc9-e4de-4762-a1bf-281c296c0762"
      },
      "execution_count": 486,
      "outputs": [
        {
          "output_type": "execute_result",
          "data": {
            "text/plain": [
              "[['space',\n",
              "  'inserted',\n",
              "  'first',\n",
              "  'letter',\n",
              "  'words',\n",
              "  'text',\n",
              "  'ms',\n",
              "  'word',\n",
              "  'eg',\n",
              "  'q',\n",
              "  'uora',\n",
              "  'instead',\n",
              "  'quora',\n",
              "  'fix'],\n",
              " [\"'s\", 'like', 'work', 'care.com', 'first', 'job'],\n",
              " ['german', 'jews', 'treated', 'hitler', 'wwi'],\n",
              " ['sugar', 'bad', 'us'],\n",
              " ['deal', 'death', 'grandparent'],\n",
              " [\"'s\",\n",
              "  'best',\n",
              "  'available',\n",
              "  'compact',\n",
              "  'camera',\n",
              "  'sony',\n",
              "  'cyber-shot',\n",
              "  'dsc-rx100',\n",
              "  'anything',\n",
              "  'better',\n",
              "  'coming',\n",
              "  'next',\n",
              "  '2-3',\n",
              "  'months'],\n",
              " ['best', 'way', 'build', 'email', 'list'],\n",
              " ['humanity', 'part', 'experiment', 'someone', \"'s\", 'terrarium'],\n",
              " ['unix', 'downloadable'],\n",
              " ['calculate', 'chemical', 'formula', 'ammonium', 'chlorate']]"
            ]
          },
          "metadata": {},
          "execution_count": 486
        }
      ]
    },
    {
      "cell_type": "markdown",
      "source": [
        "# Word2Vec Model (Train, Save and Load)"
      ],
      "metadata": {
        "id": "mWALbqWcFBtE"
      }
    },
    {
      "cell_type": "code",
      "source": [
        "from gensim.models.callbacks import CallbackAny2Vec\n",
        "\n",
        "class callback(CallbackAny2Vec):\n",
        "    '''Callback to print loss after each epoch.'''\n",
        "\n",
        "    def __init__(self):\n",
        "        self.epoch = 0\n",
        "\n",
        "    def on_epoch_end(self, model):\n",
        "      loss = model.get_latest_training_loss()\n",
        "      if self.epoch == 0:\n",
        "          print('Loss after epoch {}: {}'.format(self.epoch, loss))\n",
        "      else:\n",
        "          print('Loss after epoch {}: {}'.format(self.epoch, loss- self.loss_previous_step))\n",
        "      self.epoch += 1\n",
        "      self.loss_previous_step = loss"
      ],
      "metadata": {
        "id": "2sNEI7X9M3di"
      },
      "execution_count": 487,
      "outputs": []
    },
    {
      "cell_type": "code",
      "source": [
        "# uncomment if you want to retrain the word2vec model\n",
        "# it_copy, sentences = itertools.tee(sentences)\n",
        "model = Word2Vec(sentences=processed, size=100, window=5, min_count=1, workers=4, compute_loss=True, iter=5, callbacks=[callback()])\n",
        "model.save(\"/gdrive/MyDrive/minor_project_files/word2vec_6_iter.model\")"
      ],
      "metadata": {
        "id": "GDD83pHX8FaS",
        "colab": {
          "base_uri": "https://localhost:8080/"
        },
        "outputId": "0cbbe225-9af7-468b-c8c5-5d24fc62689d"
      },
      "execution_count": 488,
      "outputs": [
        {
          "output_type": "stream",
          "name": "stdout",
          "text": [
            "Loss after epoch 0: 1384321.375\n",
            "Loss after epoch 1: 954061.625\n",
            "Loss after epoch 2: 864531.25\n",
            "Loss after epoch 3: 747768.75\n",
            "Loss after epoch 4: 685184.5\n"
          ]
        }
      ]
    },
    {
      "cell_type": "code",
      "source": [
        "# load already saved word2vec model\n",
        "model = Word2Vec.load(\"/gdrive/MyDrive/minor_project_files/word2vec_6_iter.model\")"
      ],
      "metadata": {
        "id": "6N1UnBrUORUe"
      },
      "execution_count": 489,
      "outputs": []
    },
    {
      "cell_type": "code",
      "source": [
        "model.most_similar('movie')"
      ],
      "metadata": {
        "colab": {
          "base_uri": "https://localhost:8080/"
        },
        "id": "IgkzTCEtGQRn",
        "outputId": "00754a22-7e53-4ed9-925e-3c0155edbbab"
      },
      "execution_count": 490,
      "outputs": [
        {
          "output_type": "execute_result",
          "data": {
            "text/plain": [
              "[('bollywood', 0.8338087797164917),\n",
              " ('scene', 0.8335925340652466),\n",
              " ('actor/actress', 0.8335633873939514),\n",
              " ('actor', 0.8323915004730225),\n",
              " ('movies', 0.8274307250976562),\n",
              " ('character', 0.8252178430557251),\n",
              " ('film', 0.8131483793258667),\n",
              " ('scenes', 0.81049644947052),\n",
              " ('dangal', 0.8089582920074463),\n",
              " ('moana', 0.8061360120773315)]"
            ]
          },
          "metadata": {},
          "execution_count": 490
        }
      ]
    },
    {
      "cell_type": "markdown",
      "source": [
        "# Find sentence Embeddings for each sentence in the dataset\n",
        "\n",
        "1.   Lookup their word vectors from word2vec/glove model\n",
        "3.   Save the weighted average word vector as the sentence embedding\n",
        "\n"
      ],
      "metadata": {
        "id": "ehay95iFH0o5"
      }
    },
    {
      "cell_type": "code",
      "source": [
        "# todo: get a proper word frequency for a word in a document set\n",
        "# or perhaps just a typical frequency for a word from Google's n-grams\n",
        "def get_word_frequency(word_text):\n",
        "    return 0.0001  # set to a low occurring frequency - probably not unrealistic for most words, improves vector values"
      ],
      "metadata": {
        "id": "Td3Aqf6KJA_g"
      },
      "execution_count": 491,
      "outputs": []
    },
    {
      "cell_type": "code",
      "source": [
        "def weighted_average(sentence: List[str], embedding_size=100, a: float = 1e-3):\n",
        "    vs = np.zeros(embedding_size)  # add all word2vec values into one vector for the sentence\n",
        "    for word in sentence:\n",
        "      a_value = a / (a + get_word_frequency(word))  # smooth inverse frequency, SIF\n",
        "      vs = np.add(vs, np.multiply(a_value, model.wv[word]))  # vs += sif * word_vector\n",
        "    \n",
        "    vs = np.divide(vs, 1 if not len(sentence) else len(sentence))  # weighted average\n",
        "    return vs"
      ],
      "metadata": {
        "id": "ERvaXAzOZBk7"
      },
      "execution_count": 492,
      "outputs": []
    },
    {
      "cell_type": "code",
      "source": [
        "pca = PCA()\n",
        "\n",
        "def sentences_to_vec(sentences: List[List[str]], embedding_size=100, a=1e-3):\n",
        "    global pca\n",
        "    sentence_set = [weighted_average(sentence) for sentence in sentences]\n",
        "    \n",
        "    # calculate PCA of this sentence set\n",
        "    pca.fit(np.array(sentence_set))\n",
        "    u = pca.components_[0]  # the PCA vector\n",
        "    u = np.multiply(u, np.transpose(u))  # u x uT\n",
        "\n",
        "    # pad the vector?  (occurs if we have less sentences than embeddings_size)\n",
        "    if len(u) < embedding_size:\n",
        "        for i in range(embedding_size - len(u)):\n",
        "            u = np.append(u, 0)  # add needed extension for multiplication below\n",
        "\n",
        "    # resulting sentence vectors, vs = vs -u x uT x vs\n",
        "    sentence_vecs = []\n",
        "    for vs in sentence_set:\n",
        "        sub = np.multiply(u, vs)\n",
        "        sentence_vecs.append(np.subtract(vs, sub))\n",
        "    \n",
        "    return sentence_vecs"
      ],
      "metadata": {
        "id": "_ZzuQu8tLQjn"
      },
      "execution_count": 493,
      "outputs": []
    },
    {
      "cell_type": "code",
      "source": [
        "sentences_vecs = np.asarray(sentences_to_vec(processed))\n",
        "np.save('/gdrive/MyDrive/minor_project_files/weighted_sentence_embeddings.npy', sentences_vecs)"
      ],
      "metadata": {
        "id": "o4hyGzK5HrDh"
      },
      "execution_count": 494,
      "outputs": []
    },
    {
      "cell_type": "code",
      "source": [
        "sentences_to_vec(processed[:10])"
      ],
      "metadata": {
        "colab": {
          "base_uri": "https://localhost:8080/"
        },
        "id": "uNvYCD1-mC22",
        "outputId": "ab2c6a26-b387-42b6-c8e5-dca484baca69"
      },
      "execution_count": 495,
      "outputs": [
        {
          "output_type": "execute_result",
          "data": {
            "text/plain": [
              "[array([ 0.31594459,  0.40106817,  0.59025721, -0.43870918, -0.02076275,\n",
              "        -0.17167177, -0.19591358, -0.07797367, -0.30058938,  0.14371658,\n",
              "        -0.9541242 , -0.0528139 ,  0.5997642 ,  0.39000816,  0.59793771,\n",
              "        -0.26782019, -0.16484385,  0.2281077 ,  0.20902857,  0.36153989,\n",
              "         0.08792378, -0.09517225,  0.55455913, -0.63613776, -0.2599178 ,\n",
              "         0.16059046, -0.12785832, -0.16673749,  0.58632598, -0.3339059 ,\n",
              "         0.35777242,  0.76032453, -0.30836141,  0.69922111, -0.43529671,\n",
              "        -0.23044712,  0.07017667, -0.12568322, -0.03233147, -0.20817648,\n",
              "         0.13562453, -0.18154066, -0.02623359,  0.11542933,  0.25683025,\n",
              "        -0.50192242, -0.27255214, -0.0762017 ,  0.44443971, -0.25678787,\n",
              "         0.03267961,  0.52543996,  0.06749582, -0.15025536,  0.36131315,\n",
              "        -0.28369705, -0.33288505,  0.46190689, -0.0567425 ,  0.03086267,\n",
              "        -0.4536808 , -0.5421956 , -0.06390785, -0.18535432, -0.43087775,\n",
              "         0.07913587,  0.12621043, -0.07726827,  0.64877996, -0.47698288,\n",
              "         0.48687886, -0.66497152,  0.71144962,  0.11099058, -0.05845516,\n",
              "         0.93516099, -0.68539406,  0.04567893,  0.2273342 , -0.12553393,\n",
              "        -0.25009657,  0.08711134,  0.40914384, -0.45256956,  0.01372709,\n",
              "         0.06553564,  0.07104539,  0.00452065, -0.10130242,  0.91785618,\n",
              "        -0.71191041, -0.10830884, -0.29625358, -0.39603415,  1.12639408,\n",
              "         0.34879076,  0.23575347, -0.31317692,  0.18040153, -0.49793306]),\n",
              " array([-0.07140134,  0.16982703,  0.02572248,  0.18647767, -0.44124454,\n",
              "        -0.33982236, -0.29609304,  0.21540357, -0.34991938,  0.17197219,\n",
              "        -0.71862761, -0.26777673,  0.07697739,  1.20943624,  0.42245405,\n",
              "        -0.02867427,  0.77970046,  0.5380807 ,  0.63743944,  0.36520764,\n",
              "        -0.36789652, -0.45757889,  0.07064453, -0.84297625, -0.40095546,\n",
              "        -0.24045317,  0.71102234, -1.00206049, -0.03253988, -0.03319736,\n",
              "         0.19533595,  0.61182438, -0.91693123,  0.25415274,  0.12666689,\n",
              "         0.72129742,  0.55661924, -0.36122344,  0.69360557, -0.48038599,\n",
              "        -0.31305756, -0.01341447, -0.47312804, -0.89249528,  1.08671868,\n",
              "        -0.67141934, -0.74416162, -0.38334045,  0.35528077, -0.00172261,\n",
              "         0.3678075 ,  0.77765741,  0.21878529,  0.18559286, -0.16417538,\n",
              "        -0.29182085, -0.47451948,  0.22936247, -0.33037494, -0.54963516,\n",
              "        -0.6966944 , -0.04276622, -0.18854753,  0.71523286, -0.48048553,\n",
              "        -0.01689663,  0.14372514, -0.05549061,  0.79655136, -0.08117572,\n",
              "         0.17720002, -0.33017436,  0.4318811 ,  0.34786726,  0.23700608,\n",
              "         0.79090436,  0.37863078,  0.31389834,  0.11457852,  0.36731469,\n",
              "        -0.77961204,  0.87858713,  0.46532298, -0.93839458, -0.57394563,\n",
              "         0.65992627, -0.06460034, -0.2235083 , -0.46825047,  0.66763912,\n",
              "        -0.63688404, -0.13287599, -0.51894035, -1.41171753,  0.69689656,\n",
              "         0.30538475,  0.48967996, -0.41341802,  0.87017949, -0.22383206]),\n",
              " array([ 0.37980428,  0.58028545,  0.02668919, -0.28193309, -0.27520062,\n",
              "        -0.03675384,  0.51812157, -0.23742495, -0.06451662, -0.02525088,\n",
              "        -0.54101254, -0.37327988,  0.41324406,  0.17976258,  0.30434424,\n",
              "        -0.08438259,  0.97789014,  0.16695563,  0.21754195,  0.31150058,\n",
              "         0.00823333,  0.4613287 ,  0.50729481, -0.14643084, -0.02415993,\n",
              "         0.07122846, -0.15622632, -0.19789305,  0.64378617, -0.10764166,\n",
              "         0.61705171,  0.50049712,  0.26035018,  0.89772285,  0.12733098,\n",
              "         0.90931636, -0.12332094, -0.14677519,  0.28106259, -0.59664774,\n",
              "         0.05754277, -0.61197563, -0.84753074, -0.18071372,  0.29606377,\n",
              "        -0.63983677, -0.02569976,  0.08221881, -0.4967549 , -0.26220082,\n",
              "        -0.17276964, -0.10533699, -0.19920253, -0.47529911,  0.0187458 ,\n",
              "        -0.37821491, -0.20245655, -0.15193429, -0.22194126, -0.00714975,\n",
              "        -0.79160857, -0.66927678, -0.42218003, -0.47106357, -0.11920007,\n",
              "         0.60422107, -0.54577101, -0.13982919,  0.40512122, -0.23632605,\n",
              "         0.5168752 ,  0.05059745,  0.2624276 , -0.29995315,  0.31898595,\n",
              "         1.12913953, -0.82220324, -0.4193966 , -0.01618955,  0.25135542,\n",
              "         0.44518762, -0.0493588 ,  0.16150296, -0.39685159,  0.26363099,\n",
              "        -0.00966046,  0.21281584,  0.09478331,  0.43213402, -0.00508043,\n",
              "        -0.0424711 , -0.09300966, -0.6549503 , -0.32054601,  0.20999476,\n",
              "         0.41731543,  0.29558054,  0.41132949,  0.05349358, -0.33938909]),\n",
              " array([ 0.06315641,  0.20104623, -0.53186276,  0.01212966, -0.25413366,\n",
              "        -0.02295194,  0.49702772, -0.07078187, -0.00935563,  0.49287027,\n",
              "        -0.99398906,  0.26482777,  0.64071397,  0.26743087,  0.21704171,\n",
              "        -0.55287695,  0.68084744,  0.28155796,  0.3687775 ,  0.43243045,\n",
              "         0.07880684, -0.16825057, -0.34017983, -0.79981787,  0.16099616,\n",
              "        -0.21860133,  0.3269837 , -0.51657799,  0.93942187,  0.63715838,\n",
              "         1.63214405,  0.01864634, -0.12374701,  0.51343429,  0.36501457,\n",
              "         0.42276936,  0.55826158,  0.15937298, -0.27116638, -0.92363262,\n",
              "         0.24915992, -0.54370709, -1.06660806, -0.14692893,  0.32941109,\n",
              "        -0.05344504, -0.92209282, -0.29341755,  0.62108315, -0.87567551,\n",
              "         0.06742474,  0.66442479, -0.36556546, -0.35436619, -0.12694387,\n",
              "        -0.3313045 , -0.32344795, -0.33919914, -0.85904426,  0.02619334,\n",
              "        -0.39647955, -1.20138958,  0.00715724,  0.03122239, -0.60717797,\n",
              "         0.88732027, -0.18822594, -0.51836448,  0.04538861, -0.13273075,\n",
              "         0.40512611, -0.88800261,  0.6729901 , -0.14536475, -0.157404  ,\n",
              "         1.40855177,  0.13214121, -0.55262014, -0.02757479,  0.12132215,\n",
              "        -0.18654143,  0.35585979,  0.37580096, -0.05850441, -0.22131887,\n",
              "        -0.03810819,  0.41737279,  0.42121153,  0.45782187, -0.46148601,\n",
              "        -0.02378166, -0.05038488, -0.88545737, -0.70123834,  0.61803733,\n",
              "        -0.11392395,  0.21832834,  0.1200986 ,  0.80883768, -0.35252794]),\n",
              " array([-1.52396981e-02,  2.08094741e-01, -1.86666569e-01, -3.46084228e-02,\n",
              "        -3.90377407e-01, -1.58975931e-01,  3.16871637e-01, -1.04229095e-01,\n",
              "        -4.94997504e-01, -1.04064217e-01, -7.00636418e-01,  5.48373566e-01,\n",
              "        -1.56033508e-01, -2.28132657e-01,  2.48530098e-01, -3.96412794e-01,\n",
              "         1.31071464e+00,  7.77400172e-02, -8.89675451e-04,  4.41135607e-01,\n",
              "        -2.48922106e-01,  9.95566188e-04,  1.12908863e-01,  2.76711792e-01,\n",
              "         5.78503939e-01,  4.63050191e-01,  2.87622408e-02, -3.38662765e-01,\n",
              "         6.40130456e-01,  3.85866767e-01,  7.31498847e-01,  3.90856592e-01,\n",
              "        -5.58924252e-02,  3.79592125e-01,  1.07336269e-01,  6.06988684e-01,\n",
              "        -3.01616924e-02, -2.06722027e-01,  1.53932290e-01, -7.88753125e-01,\n",
              "        -7.56072606e-02, -5.27860824e-01, -5.52705939e-01, -2.25673402e-01,\n",
              "        -3.69697168e-02, -4.34826414e-01, -2.66982129e-02, -3.37506943e-02,\n",
              "         2.99002532e-01, -3.52681814e-01, -6.66221062e-02,  9.53699298e-03,\n",
              "         1.25350836e-03, -1.31946078e-01, -1.07828222e-01, -3.75600684e-01,\n",
              "        -3.36438673e-01,  1.32319317e-01, -3.68041114e-01, -7.65046240e-02,\n",
              "        -2.40138768e-01, -4.21451959e-01, -7.44180367e-01, -4.45975315e-01,\n",
              "        -2.25364565e-01,  4.02546263e-01, -2.36978022e-01,  3.09332107e-01,\n",
              "         5.89045639e-02,  2.58073284e-01,  2.94665969e-01, -8.19245028e-02,\n",
              "         3.67674036e-01, -4.86325739e-01,  1.85930169e-01,  1.23899134e+00,\n",
              "        -7.25003573e-01, -7.84844692e-02,  1.12296451e-01, -3.43978425e-01,\n",
              "        -5.09035890e-02,  2.84791081e-01,  8.55487954e-02,  9.77667320e-02,\n",
              "         1.40058296e-01,  2.22925688e-01,  2.30041962e-01,  2.85712837e-01,\n",
              "        -1.43312839e-01,  2.10832978e-02, -2.14488314e-01, -2.24443189e-01,\n",
              "        -3.51780815e-01, -2.13320665e-01, -1.98215522e-01,  4.14567597e-01,\n",
              "         4.76982334e-01,  5.59069730e-02,  3.39428421e-01, -2.16814112e-01]),\n",
              " array([ 0.17609442,  0.21370403, -0.02520707,  0.13688796, -0.35237451,\n",
              "        -0.0059325 , -0.06192536,  0.08924019, -0.04752096, -0.16261229,\n",
              "        -0.94348563, -0.51212551,  0.13037689,  0.46977611,  0.38231125,\n",
              "         0.26829223,  0.13275741,  0.35412295,  0.22909091,  0.03087427,\n",
              "         0.23876068, -0.44411667,  0.04759896, -0.38392387, -0.16868916,\n",
              "        -0.00314146, -0.09371639, -0.61129494,  0.37499268,  0.4153663 ,\n",
              "         0.26458731,  0.23223609, -0.08747252, -0.23834545, -0.02564265,\n",
              "         0.0804165 ,  0.25137136, -0.30684815, -0.18034556, -0.68482148,\n",
              "         0.22927149, -0.08861432, -0.25446536, -0.05653869,  0.23385016,\n",
              "        -0.47292403, -0.59777466, -0.28472574,  0.45495741, -0.22152252,\n",
              "         0.17561031,  0.3420886 ,  0.38383516,  0.2427257 , -0.0466052 ,\n",
              "        -0.13860676, -0.64028284,  0.10454616, -0.20769439,  0.4260019 ,\n",
              "        -0.01591992, -0.27980598, -0.13961913,  0.42651306, -0.2886271 ,\n",
              "        -0.23294479,  0.104329  ,  0.29799031,  0.31415268, -0.12449561,\n",
              "         0.51936121, -0.23220233,  0.57601037,  0.35276819, -0.03689525,\n",
              "         0.73822078, -0.07636898,  0.01626343,  0.39113772, -0.04509572,\n",
              "        -0.09166368, -0.0448748 ,  0.22077456, -0.31547354, -0.36372475,\n",
              "         0.13038075,  0.27822387,  0.19951512, -0.43597829,  0.26215353,\n",
              "        -0.55197589,  0.08556142, -0.07371713, -1.05367693,  0.70238844,\n",
              "         0.08114744,  0.52589951, -0.23098337,  0.26359248, -0.08571915]),\n",
              " array([-0.28963464,  0.84964233,  0.33156556, -0.40518574, -0.1126636 ,\n",
              "        -0.42740693,  0.10883819,  0.42210247, -1.18726278, -0.22252752,\n",
              "        -1.17385174, -0.57926242, -0.0844023 ,  0.72488535,  0.90786884,\n",
              "         0.34647098,  0.2540059 ,  0.13005135,  0.53104815,  0.29062537,\n",
              "         0.47261943, -0.47643669, -0.0741583 , -0.99921472, -0.27384985,\n",
              "        -0.37822295, -0.54300843, -0.96190725,  0.37724875, -0.03222453,\n",
              "        -0.1328598 ,  0.38591706, -0.14848784, -0.02191415, -0.79367926,\n",
              "         0.16941197,  0.29523171, -0.34003187, -0.19207064, -0.8039131 ,\n",
              "         0.3456719 , -0.19287946,  0.10184558,  0.37042067, -0.53885921,\n",
              "        -0.55996117, -1.20152573, -0.47936928,  1.40655153,  0.14264842,\n",
              "         0.39101872,  0.74617525,  0.93476222,  0.14325496,  0.19438915,\n",
              "        -0.29120142, -0.45684628,  0.28847713, -0.09971283,  0.82263425,\n",
              "         0.10665313, -1.2739517 , -0.13780343,  0.80388364, -0.31722982,\n",
              "        -0.77375919,  0.01378104,  0.08885894,  0.58412366, -0.57368928,\n",
              "         0.39998498, -0.34078058,  1.23459533, -0.05152038, -0.12952378,\n",
              "         0.88546552, -0.38443694,  0.06507583,  0.62150165,  0.04659534,\n",
              "        -0.51226679,  0.01836211,  0.49640743,  0.08983612, -0.33845958,\n",
              "        -0.06641954, -0.06461389, -0.55987211, -0.57675097,  1.21504778,\n",
              "        -0.55495556,  0.07910172,  0.24380906, -0.82125925,  0.61558663,\n",
              "         0.36268193,  1.10231671, -0.49161505, -0.13311954, -0.99385962]),\n",
              " array([ 0.15334155,  0.18109206, -0.22926588, -0.32935616, -0.26696149,\n",
              "        -0.25929623, -0.02270114, -0.24384871, -0.73060069,  0.30674523,\n",
              "        -0.60502778, -0.04299071, -0.0740246 ,  0.4343148 ,  0.44713752,\n",
              "         0.00652033,  0.88893409,  0.2369905 ,  0.23963221,  0.30301507,\n",
              "         0.01342171,  0.11312929,  0.2801236 , -0.49476089,  0.08382281,\n",
              "         0.43693451, -0.08638203, -0.47909051,  0.2997218 ,  0.2306121 ,\n",
              "         0.28223066,  0.38645499, -0.38280451,  0.30740945, -0.31079172,\n",
              "         0.1251313 ,  0.24762785, -0.49193256,  0.36966726, -0.66241215,\n",
              "        -0.12983075, -0.18191314, -0.4953474 ,  0.05040441,  0.19297746,\n",
              "        -0.46995165, -0.31511889, -0.54724413,  0.22863709,  0.00571225,\n",
              "         0.05858921, -0.03998389,  0.1215976 ,  0.17446089, -0.11433383,\n",
              "        -0.44474132, -0.27384465, -0.14967927, -0.03309304, -0.14244203,\n",
              "        -0.27285769, -0.19445035, -0.22074241, -0.07891938, -0.36883344,\n",
              "         0.17517181, -0.00389013, -0.18961131,  0.11928728, -0.10392069,\n",
              "         0.75651137, -0.3491799 ,  0.24504811,  0.18512458,  0.16138164,\n",
              "         1.17647174, -0.60722099, -0.25569324,  0.05838093, -0.07664932,\n",
              "        -0.26299648,  0.4679449 , -0.18354472, -0.40045553,  0.03181012,\n",
              "         0.28353903,  0.00439894,  0.03104731, -0.32787825,  0.21715527,\n",
              "        -0.54461765, -0.18936934, -0.05926711, -0.48025825,  0.30194049,\n",
              "         0.88444263,  0.54747098, -0.12360776,  0.37990697, -0.12824571]),\n",
              " array([ 0.10197188,  0.2021978 , -0.03799331, -0.0595269 ,  0.06207905,\n",
              "        -0.15883377,  0.00199747,  0.02639563, -0.0983731 ,  0.02830939,\n",
              "        -0.1567211 , -0.22956694,  0.13987823,  0.14728649,  0.20727292,\n",
              "         0.12826763, -0.07792977,  0.04633611,  0.14840449,  0.07342191,\n",
              "         0.07497813,  0.0168882 ,  0.21301608, -0.14165471, -0.07237942,\n",
              "        -0.08886092, -0.07911147,  0.16858629,  0.04690784, -0.07547981,\n",
              "         0.09150437,  0.13043821, -0.0141493 ,  0.07038647, -0.00127871,\n",
              "         0.09423984,  0.06136779, -0.13917044, -0.03879026,  0.00531226,\n",
              "         0.05334559, -0.00144813, -0.01622628,  0.07106385,  0.0065097 ,\n",
              "        -0.17985613, -0.07211596, -0.06240358,  0.16808753, -0.12428569,\n",
              "         0.04867403,  0.06755769,  0.00089316, -0.09489708,  0.05013102,\n",
              "         0.01001241, -0.09404835,  0.267962  , -0.00701208,  0.0317512 ,\n",
              "         0.10209978, -0.06974536,  0.01752151, -0.03054706, -0.05984355,\n",
              "        -0.07396898, -0.15211775, -0.01164827,  0.13992454, -0.20899877,\n",
              "         0.16990093, -0.06792748,  0.11621953,  0.1222471 ,  0.04972768,\n",
              "         0.2781388 , -0.07585611, -0.01494639,  0.01699433,  0.08527117,\n",
              "         0.07810393, -0.07497732,  0.13341011, -0.08806517, -0.06882002,\n",
              "        -0.0461211 ,  0.02618762, -0.01532009, -0.00840032,  0.26158785,\n",
              "        -0.16221215, -0.02358258, -0.05100948, -0.17672814,  0.25033488,\n",
              "         0.13156062,  0.11078216,  0.03344365, -0.13166938, -0.01894348]),\n",
              " array([ 0.27745759,  0.09220732, -0.48287419,  0.21957544,  0.15222535,\n",
              "         0.03837985, -0.03328699, -0.43012584,  0.15056636,  0.41787053,\n",
              "        -0.62711374, -0.67548928,  0.3443909 ,  0.35341115,  1.1334236 ,\n",
              "         0.52245377, -0.12256709,  0.24224295,  0.00844263, -0.44374098,\n",
              "        -0.32172303,  0.12316472,  0.97999603, -0.11703247, -0.84790341,\n",
              "        -0.04270494, -0.07327069,  0.46547343,  0.33113175,  0.17343414,\n",
              "         0.33209551,  0.34788664, -0.62528419, -0.22319804,  0.17094003,\n",
              "         0.63612551, -0.23644447, -0.41564195, -0.14441658, -0.04525377,\n",
              "        -0.08031336, -0.31619814,  0.25126201,  0.44348136,  0.12738195,\n",
              "         0.08008486, -0.23766755, -0.00256259,  0.71276992, -0.9781332 ,\n",
              "         0.7673429 , -0.13705957, -0.25615063, -0.4271467 ,  0.26628793,\n",
              "         0.32684034, -0.22907132,  0.74415821,  0.05664432, -0.49279184,\n",
              "        -0.08486394, -0.35928968, -0.43125449,  0.03962631, -0.47587133,\n",
              "        -0.20942068, -0.68768989,  0.008424  ,  0.27088584, -0.54205698,\n",
              "         0.01380152, -0.61383797,  0.2052435 ,  0.48652575, -0.52237358,\n",
              "         0.37643135, -0.51608042, -0.3289124 , -0.11546338,  0.20546106,\n",
              "         0.44125791,  0.02131053, -0.42055765,  0.10784107,  0.11275934,\n",
              "         0.00549887, -0.10085377,  0.08538707,  0.02324563,  0.40151993,\n",
              "        -0.34557042,  0.0950892 , -0.62661875, -0.39693958,  1.14377533,\n",
              "         0.37522328, -0.1310564 ,  0.27720939, -0.38934098,  0.61408098])]"
            ]
          },
          "metadata": {},
          "execution_count": 495
        }
      ]
    },
    {
      "cell_type": "code",
      "source": [
        "sentences_vecs = np.load('/gdrive/MyDrive/minor_project_files/weighted_sentence_embeddings.npy', allow_pickle=True)\n",
        "print(sentences_vecs[:1])"
      ],
      "metadata": {
        "colab": {
          "base_uri": "https://localhost:8080/"
        },
        "id": "nWkKjayehxkE",
        "outputId": "638d0963-af67-4360-8940-c5a20c2d479d"
      },
      "execution_count": 496,
      "outputs": [
        {
          "output_type": "stream",
          "name": "stdout",
          "text": [
            "[[ 0.31042172  0.40169428  0.59744718 -0.43856834 -0.02071478 -0.17226439\n",
            "  -0.19438551 -0.07729835 -0.30658148  0.14396599 -0.94728083 -0.05142065\n",
            "   0.59916629  0.38714551  0.59576261 -0.26543345 -0.16577711  0.22819483\n",
            "   0.20208678  0.35963947  0.0881106  -0.094598    0.55521333 -0.61088494\n",
            "  -0.25851952  0.16010883 -0.12782484 -0.16869234  0.58953443 -0.33492707\n",
            "   0.37037189  0.75698007 -0.30886377  0.70381236 -0.44366723 -0.23201376\n",
            "   0.06865373 -0.12504767 -0.03232195 -0.20807538  0.13509005 -0.18024444\n",
            "  -0.02654787  0.11524393  0.25672263 -0.49959309 -0.27221729 -0.07638517\n",
            "   0.44965686 -0.26058598  0.03278556  0.51732425  0.06936882 -0.15206694\n",
            "   0.36155243 -0.28369967 -0.33000972  0.46380316 -0.05679894  0.0305542\n",
            "  -0.4465715  -0.54248235 -0.06226976 -0.18502148 -0.43053962  0.08309634\n",
            "   0.12754802 -0.07720361  0.64237771 -0.47749611  0.48612772 -0.66506531\n",
            "   0.71816226  0.11118747 -0.05823348  0.93530793 -0.66787954  0.04565644\n",
            "   0.22648882 -0.12511906 -0.25323801  0.08712277  0.41139485 -0.45140046\n",
            "   0.01378115  0.0655592   0.0712398   0.00457075 -0.10422986  0.97246128\n",
            "  -0.69362988 -0.10697419 -0.29853855 -0.38521952  1.11357701  0.34877257\n",
            "   0.23734223 -0.31843667  0.18028805 -0.49484699]]\n"
          ]
        }
      ]
    },
    {
      "cell_type": "markdown",
      "source": [
        "#Build Annoy Index for finding approximate nearest neighbours (and corresponding label) "
      ],
      "metadata": {
        "id": "l1hhSnW6fbFE"
      }
    },
    {
      "cell_type": "code",
      "source": [
        "!pip install annoy"
      ],
      "metadata": {
        "colab": {
          "base_uri": "https://localhost:8080/"
        },
        "id": "d7c5VbFcfcZM",
        "outputId": "fd1e46a8-1dd0-4535-c3e6-cb35000a9f55"
      },
      "execution_count": 497,
      "outputs": [
        {
          "output_type": "stream",
          "name": "stdout",
          "text": [
            "Requirement already satisfied: annoy in /usr/local/lib/python3.7/dist-packages (1.17.0)\n"
          ]
        }
      ]
    },
    {
      "cell_type": "code",
      "source": [
        "import annoy\n",
        "import pickle\n",
        "\n",
        "class AnnoyIndex():\n",
        "    def __init__(self, dimension):\n",
        "        self.dimension = dimension\n",
        "        self.index = annoy.AnnoyIndex(self.dimension)   \n",
        "   \n",
        "    def build(self, vectors, labels, number_of_trees=5):\n",
        "        self.vectors = vectors\n",
        "        self.labels = labels \n",
        "\n",
        "        for i, vec in enumerate(self.vectors):\n",
        "          if not np.isnan(np.sum(vec)):\n",
        "            self.index.add_item(i, vec)\n",
        "        self.index.build(number_of_trees)\n",
        "        \n",
        "    def query(self, vector, k=10):\n",
        "        indices = self.index.get_nns_by_vector(list(vector), k)                                           \n",
        "        return [self.labels[i] for i in indices]\n",
        "    \n",
        "    def save(self, path):\n",
        "        label_path=path.split(\".\")[0]+\".labels\"\n",
        "        print(label_path)\n",
        "        with open(label_path,'wb') as fp:\n",
        "            pickle.dump(self.labels,fp)\n",
        "        self.index.save(path)\n",
        "    \n",
        "    def load(self, path):\n",
        "        label_path=path.split(\".\")[0]+\".labels\"\n",
        "        self.index=annoy.AnnoyIndex(self.dimension)\n",
        "        with open(label_path,\"rb\") as fp:\n",
        "            self.labels=pickle.load(fp)\n",
        "        self.index.load(path)"
      ],
      "metadata": {
        "id": "2WEjwnoBffNM"
      },
      "execution_count": 498,
      "outputs": []
    },
    {
      "cell_type": "code",
      "source": [
        "questions = []\n",
        "with open(dataset, \"r\") as fp:\n",
        "  questions=[line.strip() for line in fp.readlines()]"
      ],
      "metadata": {
        "id": "OfkGGxp3UGtP"
      },
      "execution_count": 499,
      "outputs": []
    },
    {
      "cell_type": "code",
      "source": [
        "# create annoy index from vectors\n",
        "index = AnnoyIndex(dimension=len(sentences_vecs[0]))\n",
        "index.build(sentences_vecs, questions)"
      ],
      "metadata": {
        "id": "hdujOv9ufneE"
      },
      "execution_count": 500,
      "outputs": []
    },
    {
      "cell_type": "code",
      "source": [
        "index.save('/gdrive/MyDrive/minor_project_files/weighted_annoy_index.ann')"
      ],
      "metadata": {
        "id": "vEM0Zby5OtJF",
        "colab": {
          "base_uri": "https://localhost:8080/"
        },
        "outputId": "2642d048-080a-4108-eb56-dddf8e491bf4"
      },
      "execution_count": 501,
      "outputs": [
        {
          "output_type": "stream",
          "name": "stdout",
          "text": [
            "/gdrive/MyDrive/minor_project_files/weighted_annoy_index.labels\n"
          ]
        }
      ]
    },
    {
      "cell_type": "code",
      "source": [
        "index.query(sentences_vecs[500])"
      ],
      "metadata": {
        "id": "GE085Mn0ft30",
        "colab": {
          "base_uri": "https://localhost:8080/"
        },
        "outputId": "638be9fd-d7aa-4ec1-c942-7cbe68cc9f37"
      },
      "execution_count": 502,
      "outputs": [
        {
          "output_type": "execute_result",
          "data": {
            "text/plain": [
              "['What are the civil law examples?',\n",
              " 'Where is the world headed over the next 5 years?',\n",
              " 'What are some examples of civil cases?',\n",
              " 'What are some things new employees should know going into their first day at Aetna?',\n",
              " 'What are the differences between civil and criminal cases?',\n",
              " 'What is the law of interaction? What are some examples of it?',\n",
              " 'What are some examples of the Law of Detachment?',\n",
              " 'Should I quit my job or not?',\n",
              " 'Which is the best compiler for C & C++ programming?',\n",
              " 'What are some examples of the Third Law of Thermodynamics?']"
            ]
          },
          "metadata": {},
          "execution_count": 502
        }
      ]
    },
    {
      "cell_type": "markdown",
      "source": [
        "# Load Annoy Index and query sentences"
      ],
      "metadata": {
        "id": "OPCC5LCSRUzZ"
      }
    },
    {
      "cell_type": "code",
      "source": [
        "#  load existing annoy index from file\n",
        "loaded_index = AnnoyIndex(dimension=len(sentences_vecs[0]))\n",
        "loaded_index.load('/gdrive/MyDrive/minor_project_files/weighted_annoy_index.ann')"
      ],
      "metadata": {
        "id": "xo2SUQlsOe5y"
      },
      "execution_count": 503,
      "outputs": []
    },
    {
      "cell_type": "code",
      "source": [
        "loaded_index.query(sentences_vecs[500])"
      ],
      "metadata": {
        "colab": {
          "base_uri": "https://localhost:8080/"
        },
        "id": "GWBGa3d0G_D7",
        "outputId": "9326e12b-7a91-4d71-e4a1-28f38f38d10c"
      },
      "execution_count": 504,
      "outputs": [
        {
          "output_type": "execute_result",
          "data": {
            "text/plain": [
              "['What are the civil law examples?',\n",
              " 'Where is the world headed over the next 5 years?',\n",
              " 'What are some examples of civil cases?',\n",
              " 'What are some things new employees should know going into their first day at Aetna?',\n",
              " 'What are the differences between civil and criminal cases?',\n",
              " 'What is the law of interaction? What are some examples of it?',\n",
              " 'What are some examples of the Law of Detachment?',\n",
              " 'Should I quit my job or not?',\n",
              " 'Which is the best compiler for C & C++ programming?',\n",
              " 'What are some examples of the Third Law of Thermodynamics?']"
            ]
          },
          "metadata": {},
          "execution_count": 504
        }
      ]
    },
    {
      "cell_type": "code",
      "source": [
        "def sentence_to_vec(sentence: str, embedding_size=100, a=1e-3):\n",
        "    vs = np.zeros(embedding_size)\n",
        "    for word in sentence:\n",
        "      a_value = a / (a + get_word_frequency(word))\n",
        "      if word in model.wv:\n",
        "          vs = np.add(vs, np.multiply(a_value, model.wv[word]))\n",
        "    vs = np.divide(vs, 1 if not len(sentence) else len(sentence))\n",
        "\n",
        "    # calculate PCA of this sentence\n",
        "    # pca.transform([vs])\n",
        "    u = pca.components_[0]  # the PCA vector\n",
        "    u = np.multiply(u, np.transpose(u))  # u x uT\n",
        "\n",
        "    # pad the vector?  (occurs if we have less sentences than embeddings_size)\n",
        "    if len(u) < embedding_size:\n",
        "        for i in range(embedding_size - len(u)):\n",
        "            u = np.append(u, 0)  # add needed extension for multiplication below\n",
        "\n",
        "    # resulting sentence vectors, vs = vs -u x uT x vs\n",
        "    return np.subtract(vs, np.multiply(u, vs))"
      ],
      "metadata": {
        "id": "RcchdkULWPiR"
      },
      "execution_count": 505,
      "outputs": []
    },
    {
      "cell_type": "code",
      "source": [
        "def get_similar(input_question: str):\n",
        "    # get sentence embedding of the question\n",
        "    to_transform = word_tokenize(input_question.lower())\n",
        "    embedding = sentence_to_vec(to_transform)\n",
        "    return index.query(embedding)"
      ],
      "metadata": {
        "id": "c53z2LkESBIh"
      },
      "execution_count": 506,
      "outputs": []
    },
    {
      "cell_type": "code",
      "source": [
        "#@title { run: \"auto\" }\n",
        "query = \"should i buy the new book\" #@param {type:\"string\"}\n",
        "\n",
        "print(\"Finding relevant items in the index...\\n\")\n",
        "for similar in get_similar(query):\n",
        "    print(similar)\n",
        "print()\n",
        "%time query_embedding = get_similar(query)"
      ],
      "metadata": {
        "colab": {
          "base_uri": "https://localhost:8080/"
        },
        "id": "-oX_5ln1YB9W",
        "outputId": "c5a27a6b-cc59-49ff-957c-8c32dd3db713"
      },
      "execution_count": 515,
      "outputs": [
        {
          "output_type": "stream",
          "name": "stdout",
          "text": [
            "Finding relevant items in the index...\n",
            "\n",
            "Can I learn to make crystal meth using the IIN?\n",
            "What is that one thing you will miss from living, once your life ends?\n",
            "If I do not get into an IIM, what are my best options.  Which universities in India and abroad are best for me to do mba?\n",
            "I am looking to buy new bike. Suzuki gixxer 155 or honda hornet 160r. Which one to buy?\n",
            "How will demonetization affect India?\n",
            "How can we solve racism?\n",
            "Is it worth it to buy a MacBook Pro 2015 instead of the new MacBook 2016 model?\n",
            "Is it better to buy a new or a used Porsche?\n",
            "Would you prefer to receive assistance from a self-service machine or a real person?\n",
            "What are some tips for buy a refurbished MacBook Pro?\n",
            "\n",
            "CPU times: user 320 µs, sys: 1.81 ms, total: 2.13 ms\n",
            "Wall time: 2.46 ms\n"
          ]
        }
      ]
    },
    {
      "cell_type": "markdown",
      "source": [
        "#Running Flask on collab"
      ],
      "metadata": {
        "id": "CfEnbd3JTV-4"
      }
    },
    {
      "cell_type": "code",
      "source": [
        "%%capture\n",
        "!curl -s https://ngrok-agent.s3.amazonaws.com/ngrok.asc | sudo tee /etc/apt/trusted.gpg.d/ngrok.asc >/dev/null\n",
        "!echo \"deb https://ngrok-agent.s3.amazonaws.com buster main\" | sudo tee /etc/apt/sources.list.d/ngrok.list\n",
        "!sudo apt update && sudo apt install ngrok\n",
        "!pip install flask_ngrok flask-bootstrap\n",
        "!pip install flask_restful flask_cors\n",
        "!cat /gdrive/MyDrive/minor_project_files/ngrok_token | xargs ngrok authtoken"
      ],
      "metadata": {
        "id": "moNKtS4sXFgR"
      },
      "execution_count": null,
      "outputs": []
    },
    {
      "cell_type": "code",
      "source": [
        "import sys\n",
        "stdout = sys.stdout\n",
        "stderr = sys.stderr"
      ],
      "metadata": {
        "id": "4L4DjSwU-Avm"
      },
      "execution_count": null,
      "outputs": []
    },
    {
      "cell_type": "code",
      "source": [
        "print(\"test\")"
      ],
      "metadata": {
        "colab": {
          "base_uri": "https://localhost:8080/"
        },
        "id": "rGs-FuZu_O7z",
        "outputId": "d9afb35e-2a12-42f1-df46-3d26a10874fb"
      },
      "execution_count": null,
      "outputs": [
        {
          "output_type": "stream",
          "name": "stdout",
          "text": [
            "test\n"
          ]
        }
      ]
    },
    {
      "cell_type": "code",
      "source": [
        "from flask_ngrok import run_with_ngrok\n",
        "from flask import Flask, render_template , request , jsonify\n",
        "from flask_restful import Resource, Api\n",
        "import os, logging, sys\n",
        "from flask_cors import CORS, cross_origin\n",
        "\n",
        "# sys.stdout = open(\"/gdrive/MyDrive/minor_project_files/test.txt\", \"w\", buffering=1)\n",
        "# sys.stderr = open(\"/gdrive/MyDrive/minor_project_files/test.txt\", \"a\", buffering=1)\n",
        "\n",
        "app = Flask(__name__)\n",
        "cors = CORS(app, resources={r\"/*\": {\"origins\": \"*\"}})\n",
        "# cors = CORS(app)\n",
        "# app.config['CORS_HEADERS'] = 'Content-Type'\n",
        "api = Api(app)\n",
        "\n",
        "run_with_ngrok(app)\n",
        "\n",
        "\n",
        "class Similarity(Resource):\n",
        "  # get endpoint to check server is up\n",
        "    def get(self):\n",
        "        return jsonify({\"hello\": \"Server Online!\"})\n",
        "\n",
        "    def post(self):\n",
        "        json_data = request.get_json(force=True)\n",
        "        qn = json_data[\"question\"]\n",
        "        # similarity = get_similar(qn)\n",
        "        # return list of questions\n",
        "        x = [\"question 1\", \"question 2\"]\n",
        "        return x\n",
        "\n",
        "\n",
        "api.add_resource(Similarity, \"/\")\n",
        "app.run()"
      ],
      "metadata": {
        "id": "Qp3oi91wTVVI"
      },
      "execution_count": null,
      "outputs": []
    },
    {
      "cell_type": "code",
      "source": [
        "sys.stdout = stdout\n",
        "sys.stderr = stderr"
      ],
      "metadata": {
        "id": "gRPs5eKO7nkt"
      },
      "execution_count": null,
      "outputs": []
    },
    {
      "cell_type": "code",
      "source": [
        ""
      ],
      "metadata": {
        "id": "P0Eps0Ou78w9"
      },
      "execution_count": null,
      "outputs": []
    }
  ]
}